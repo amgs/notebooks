{
 "cells": [
  {
   "cell_type": "markdown",
   "metadata": {},
   "source": [
    "# SVC Test\n",
    "\n",
    "This is an example use case of a support vector classifier. We will infer a data classification function from a set of training data.\n",
    "\n",
    "We will use the SVC implementation in the [scikit-learn](http://scikit-learn.org/) toolbox."
   ]
  },
  {
   "cell_type": "code",
   "execution_count": 1,
   "metadata": {
    "collapsed": true
   },
   "outputs": [],
   "source": [
    "from sklearn import svm\n",
    "import pandas as pd\n",
    "import pylab as pl\n",
    "import seaborn as sns\n",
    "\n",
    "%matplotlib inline"
   ]
  },
  {
   "cell_type": "markdown",
   "metadata": {},
   "source": [
    "Define a set of training points. This is the set which the classifier will use to infer the data classification function. Each row represents a data point, with x,y coordinates and classification value."
   ]
  },
  {
   "cell_type": "code",
   "execution_count": 2,
   "metadata": {
    "collapsed": true
   },
   "outputs": [],
   "source": [
    "fit_points = [\n",
    "    [2,1,1],\n",
    "    [1,2,1],\n",
    "    [3,2,1],\n",
    "    [4,2,0],\n",
    "    [4,4,0],\n",
    "    [5,1,0]\n",
    "]"
   ]
  },
  {
   "cell_type": "markdown",
   "metadata": {},
   "source": [
    "The SVC uses [pandas](http://pandas.pydata.org/) data frames to represent data. The [data frame](http://pandas.pydata.org/pandas-docs/dev/generated/pandas.DataFrame.html) is a convenient data structure for tabular data, which enables column labels."
   ]
  },
  {
   "cell_type": "code",
   "execution_count": 3,
   "metadata": {
    "collapsed": false
   },
   "outputs": [
    {
     "name": "stdout",
     "output_type": "stream",
     "text": [
      "   x  y  value\n",
      "0  2  1      1\n",
      "1  1  2      1\n",
      "2  3  2      1\n",
      "3  4  2      0\n",
      "4  4  4      0\n",
      "5  5  1      0\n"
     ]
    }
   ],
   "source": [
    "df_fit = pd.DataFrame(fit_points, columns=[\"x\", \"y\", \"value\"])\n",
    "print(df_fit)"
   ]
  },
  {
   "cell_type": "markdown",
   "metadata": {},
   "source": [
    "We need to select the set of columns with the data features. In our example, those are the `x` and `y` coordinates."
   ]
  },
  {
   "cell_type": "code",
   "execution_count": 4,
   "metadata": {
    "collapsed": false
   },
   "outputs": [],
   "source": [
    "train_cols = [\"x\", \"y\"]"
   ]
  },
  {
   "cell_type": "markdown",
   "metadata": {},
   "source": [
    "We are now able to build and train the classifier."
   ]
  },
  {
   "cell_type": "code",
   "execution_count": 5,
   "metadata": {
    "collapsed": false
   },
   "outputs": [
    {
     "data": {
      "text/plain": [
       "SVC(C=1.0, cache_size=200, class_weight=None, coef0=0.0, degree=3, gamma=0.0,\n",
       "  kernel='rbf', max_iter=-1, probability=False, random_state=None,\n",
       "  shrinking=True, tol=0.001, verbose=False)"
      ]
     },
     "execution_count": 5,
     "metadata": {},
     "output_type": "execute_result"
    }
   ],
   "source": [
    "clf = svm.SVC()\n",
    "clf.fit(df_fit[train_cols], df_fit.value)"
   ]
  },
  {
   "cell_type": "markdown",
   "metadata": {},
   "source": [
    "The classifier is now trained with the fit points, and is ready to be evaluated with a set of test points, which have a similiar structure as the fit points: `x`, `y` coordinates, and a value."
   ]
  },
  {
   "cell_type": "code",
   "execution_count": 6,
   "metadata": {
    "collapsed": true
   },
   "outputs": [],
   "source": [
    "test_points = [\n",
    "    [5,3],\n",
    "    [4,5],\n",
    "    [2,5],\n",
    "    [2,3],\n",
    "    [1,1]\n",
    "]"
   ]
  },
  {
   "cell_type": "markdown",
   "metadata": {},
   "source": [
    "We separate the features and values to make clear were the data comes from."
   ]
  },
  {
   "cell_type": "code",
   "execution_count": 7,
   "metadata": {
    "collapsed": true
   },
   "outputs": [],
   "source": [
    "test_points_values = [0,0,0,1,1]"
   ]
  },
  {
   "cell_type": "markdown",
   "metadata": {},
   "source": [
    "We build the test points dataframe with the features."
   ]
  },
  {
   "cell_type": "code",
   "execution_count": 8,
   "metadata": {
    "collapsed": false
   },
   "outputs": [
    {
     "name": "stdout",
     "output_type": "stream",
     "text": [
      "   x  y\n",
      "0  5  3\n",
      "1  4  5\n",
      "2  2  5\n",
      "3  2  3\n",
      "4  1  1\n"
     ]
    }
   ],
   "source": [
    "df_test = pd.DataFrame(test_points, columns=['x','y'])\n",
    "print(df_test)"
   ]
  },
  {
   "cell_type": "markdown",
   "metadata": {},
   "source": [
    "We can add the values to the dataframe."
   ]
  },
  {
   "cell_type": "code",
   "execution_count": 9,
   "metadata": {
    "collapsed": false
   },
   "outputs": [
    {
     "name": "stdout",
     "output_type": "stream",
     "text": [
      "   x  y  real_value\n",
      "0  5  3           0\n",
      "1  4  5           0\n",
      "2  2  5           0\n",
      "3  2  3           1\n",
      "4  1  1           1\n"
     ]
    }
   ],
   "source": [
    "df_test['real_value'] = test_points_values\n",
    "print(df_test)"
   ]
  },
  {
   "cell_type": "markdown",
   "metadata": {},
   "source": [
    "Right now we have a dataframe similar to the one with the fit points. We'll use the classifier to add a fourth column with the predicted values. Our goal is to have the same value in both `real_value` and `predicted_value` columns."
   ]
  },
  {
   "cell_type": "code",
   "execution_count": 10,
   "metadata": {
    "collapsed": false
   },
   "outputs": [
    {
     "name": "stdout",
     "output_type": "stream",
     "text": [
      "   x  y  real_value  predicted_value\n",
      "0  5  3           0                0\n",
      "1  4  5           0                0\n",
      "2  2  5           0                0\n",
      "3  2  3           1                1\n",
      "4  1  1           1                1\n"
     ]
    }
   ],
   "source": [
    "df_test['predicted_value'] = clf.predict(test_points)\n",
    "print(df_test)"
   ]
  },
  {
   "cell_type": "markdown",
   "metadata": {},
   "source": [
    "THe classifier is pretty successfull at predicting values from the `x` and `y`coordinates. We may also apply the classifier to the fit points - it's somewhat pointless, because those are the points used to infer the data classification function."
   ]
  },
  {
   "cell_type": "code",
   "execution_count": 11,
   "metadata": {
    "collapsed": false
   },
   "outputs": [
    {
     "name": "stdout",
     "output_type": "stream",
     "text": [
      "   x  y  value   \n",
      "0  2  1      1  1\n",
      "1  1  2      1  1\n",
      "2  3  2      1  1\n",
      "3  4  2      0  0\n",
      "4  4  4      0  0\n",
      "5  5  1      0  0\n"
     ]
    }
   ],
   "source": [
    "df_fit[''] = clf.predict([x[0:2] for x in fit_points])\n",
    "print(df_fit)"
   ]
  },
  {
   "cell_type": "markdown",
   "metadata": {},
   "source": [
    "To better understand the data separation between values 1 and 0, we'll plot both the fit points and the test points.\n",
    "\n",
    "Points that belong to class 1 are represented in black, and points that belong to class 0 in red. Fit points are represented in a full cirle, and the test points are represented by circunferences."
   ]
  },
  {
   "cell_type": "code",
   "execution_count": 12,
   "metadata": {
    "collapsed": false
   },
   "outputs": [
    {
     "data": {
      "image/png": "[encoded data removed]",
      "text/plain": [
       "<matplotlib.figure.Figure at 0x7fd9d4c3cf10>"
      ]
     },
     "metadata": {},
     "output_type": "display_data"
    }
   ],
   "source": [
    "sns.set(style=\"darkgrid\")\n",
    "for i in range(0,2):\n",
    "    pl.scatter(df_fit[df_fit.value==i].x,\n",
    "                df_fit[df_fit.value==i].y,\n",
    "                color = 'black' if i == 1 else 'red')\n",
    "    pl.scatter(df_test[df_test.predicted_value==i].x,\n",
    "                df_test[df_test.predicted_value==i].y,\n",
    "                marker='o',\n",
    "                facecolor='none',\n",
    "                color='black' if i == 1 else 'red')\n",
    "pl.grid(True)\n",
    "pl.show()"
   ]
  }
 ],
 "metadata": {
  "kernelspec": {
   "display_name": "Python 2",
   "language": "python",
   "name": "python2"
  },
  "language_info": {
   "codemirror_mode": {
    "name": "ipython",
    "version": 2
   },
   "file_extension": ".py",
   "mimetype": "text/x-python",
   "name": "python",
   "nbconvert_exporter": "python",
   "pygments_lexer": "ipython2",
   "version": "2.7.6"
  }
 },
 "nbformat": 4,
 "nbformat_minor": 0
}
